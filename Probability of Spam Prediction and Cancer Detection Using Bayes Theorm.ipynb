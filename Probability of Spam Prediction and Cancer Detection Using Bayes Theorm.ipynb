{
 "cells": [
  {
   "cell_type": "markdown",
   "id": "8540fbbd",
   "metadata": {},
   "source": [
    "# Consider a Spam Prediction Prblm"
   ]
  },
  {
   "cell_type": "code",
   "execution_count": 1,
   "id": "6377a24c",
   "metadata": {},
   "outputs": [
    {
     "name": "stdout",
     "output_type": "stream",
     "text": [
      "The chance that mail contains word congratulations is spam is 47.872%\n"
     ]
    }
   ],
   "source": [
    "# calculate P(spam/congraulation) given P(spam) = 30% , P(not spam) = 70%  P(congratulation/spam) = 75%, P(congratulation/not spam= 35%)\n",
    "def bayes_law(p_s, p_c_given_s, p_c_given_not_s):\n",
    "    #calculate p(not Spam)\n",
    "    not_s = 1- p_s\n",
    "    \n",
    "    #calculate P(congratulations)\n",
    "    p_c = p_c_given_s * p_s + p_c_given_not_s * not_s\n",
    "    \n",
    "    #calculate P(spam/congratulations)\n",
    "    p_s_given_c = (p_c_given_s * p_s) / p_c\n",
    "    \n",
    "    return p_s_given_c\n",
    "\n",
    "p_s = 0.30\n",
    "p_c_given_s = 0.75\n",
    "p_c_given_not_s = 0.35\n",
    "\n",
    "result = bayes_law(p_s, p_c_given_s, p_c_given_not_s)\n",
    "print('The chance that mail contains word congratulations is spam is %.3f%%'% (result*100))"
   ]
  },
  {
   "cell_type": "markdown",
   "id": "5db59324",
   "metadata": {},
   "source": [
    "# Consider Cancer Detection Prblm"
   ]
  },
  {
   "cell_type": "code",
   "execution_count": 3,
   "id": "308a3262",
   "metadata": {},
   "outputs": [
    {
     "name": "stdout",
     "output_type": "stream",
     "text": [
      "P(A/B) = 0.338915%\n"
     ]
    }
   ],
   "source": [
    "#Calculate P(A/B) given P(A) = 0.02% , P(B/A) = 85% , P(B/not A) = 5%\n",
    "\n",
    "def bayes_law (p_a,p_b_given_a,p_b_given_not_a):\n",
    "    #Calculate p(not A)\n",
    "    not_a = 1 - p_a\n",
    "    \n",
    "    #Calculate P(B)\n",
    "    p_b = p_b_given_a * p_a + p_b_given_not_a * not_a\n",
    "    \n",
    "    #Calculate P(A/B)\n",
    "    p_a_given_b = (p_b_given_a * p_a) / p_b\n",
    "    \n",
    "    return p_a_given_b\n",
    "\n",
    "p_a = 0.0002\n",
    "p_b_given_a = 0.85\n",
    "p_b_given_not_a = 0.05\n",
    "\n",
    "result = bayes_law(p_a,p_b_given_a,p_b_given_not_a)\n",
    "print('P(A/B) = %3f%%' % (result *100))\n",
    "    "
   ]
  },
  {
   "cell_type": "code",
   "execution_count": null,
   "id": "f2c650b9",
   "metadata": {},
   "outputs": [],
   "source": []
  }
 ],
 "metadata": {
  "kernelspec": {
   "display_name": "Python 3",
   "language": "python",
   "name": "python3"
  },
  "language_info": {
   "codemirror_mode": {
    "name": "ipython",
    "version": 3
   },
   "file_extension": ".py",
   "mimetype": "text/x-python",
   "name": "python",
   "nbconvert_exporter": "python",
   "pygments_lexer": "ipython3",
   "version": "3.8.8"
  }
 },
 "nbformat": 4,
 "nbformat_minor": 5
}
